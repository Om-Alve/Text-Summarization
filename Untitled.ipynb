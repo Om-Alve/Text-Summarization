{
 "cells": [
  {
   "cell_type": "code",
   "execution_count": 1,
   "id": "0177e1b4-d135-47a3-9621-60d874086a07",
   "metadata": {
    "tags": []
   },
   "outputs": [],
   "source": [
    "from transformers import pipeline"
   ]
  },
  {
   "cell_type": "code",
   "execution_count": 2,
   "id": "c2092d7a-3e99-433a-9639-3d31cc95557a",
   "metadata": {
    "tags": []
   },
   "outputs": [
    {
     "name": "stderr",
     "output_type": "stream",
     "text": [
      "All PyTorch model weights were used when initializing TFT5ForConditionalGeneration.\n",
      "\n",
      "All the weights of TFT5ForConditionalGeneration were initialized from the PyTorch model.\n",
      "If your task is similar to the task the model of the checkpoint was trained on, you can already use TFT5ForConditionalGeneration for predictions without further training.\n"
     ]
    }
   ],
   "source": [
    "pipe = pipeline('summarization','t5-small')"
   ]
  },
  {
   "cell_type": "code",
   "execution_count": 3,
   "id": "728f283b-5c1c-4884-80c5-a57620067963",
   "metadata": {
    "tags": []
   },
   "outputs": [
    {
     "data": {
      "text/plain": [
       "[{'summary_text': 'in the 21st century, the world has witnessed rapid advancements in technology and the global economy . the proliferation of smartphones and the internet has connected people like never before, enabling instant communication and access to vast amounts of information . however, these technological changes have also raised significant concerns, such as privacy and cybersecurity .'}]"
      ]
     },
     "execution_count": 3,
     "metadata": {},
     "output_type": "execute_result"
    }
   ],
   "source": [
    "pipe(\"In the 21st century, the world has witnessed rapid advancements in technology and the global economy. The proliferation of smartphones and the internet has connected people like never before, enabling instant communication and access to vast amounts of information. This digital revolution has transformed various aspects of life, from the way we work and communicate to how we entertain ourselves and consume goods and services. However, these technological changes have also raised significant concerns, such as issues of privacy and cybersecurity. Additionally, the global economy has become increasingly interconnected, with international trade, supply chains, and financial systems deeply intertwined. This has led to both opportunities for economic growth and challenges in terms of financial stability and geopolitical tensions. Furthermore, the world has been grappling with complex issues like climate change and environmental sustainability, as well as social and political challenges, including inequality, migration, and the rise of populism. As societies navigate this complex landscape, the need for informed and innovative solutions becomes ever more apparent. In this context, education and research play a crucial role in shaping the future, equipping individuals and societies with the tools to address these multifaceted challenges.\")"
   ]
  },
  {
   "cell_type": "code",
   "execution_count": null,
   "id": "9ada5c6e-92a8-49b6-9831-0f8201b5a2d2",
   "metadata": {},
   "outputs": [],
   "source": []
  }
 ],
 "metadata": {
  "kernelspec": {
   "display_name": "py311",
   "language": "python",
   "name": "py311"
  },
  "language_info": {
   "codemirror_mode": {
    "name": "ipython",
    "version": 3
   },
   "file_extension": ".py",
   "mimetype": "text/x-python",
   "name": "python",
   "nbconvert_exporter": "python",
   "pygments_lexer": "ipython3",
   "version": "3.11.4"
  }
 },
 "nbformat": 4,
 "nbformat_minor": 5
}
